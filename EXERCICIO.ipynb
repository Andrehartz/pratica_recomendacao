{
  "cells": [
    {
      "cell_type": "code",
      "execution_count": 2,
      "metadata": {
        "id": "_7LIc4DyBvAG"
      },
      "outputs": [],
      "source": [
        "import numpy as np\n",
        "import random\n",
        "from pathlib import Path\n",
        "import progressbar as pb\n",
        "import warnings # supress warnings\n",
        "warnings.filterwarnings('always')\n",
        "warnings.filterwarnings('ignore')\n",
        "import pandas as pd\n",
        "\n",
        "\n",
        "import pandas as pd\n",
        "from sklearn.metrics.pairwise import cosine_similarity\n",
        "# Add some convenience functions to Pandas DataFrame.\n",
        "pd.options.display.max_rows = 10\n",
        "pd.options.display.float_format = '{:.3f}'.format"
      ]
    },
    {
      "cell_type": "code",
      "execution_count": 3,
      "metadata": {
        "colab": {
          "base_uri": "https://localhost:8080/"
        },
        "id": "Q8chmUO5A1Cq",
        "outputId": "4b657953-68bd-4fdd-ce33-5e448165f765"
      },
      "outputs": [
        {
          "name": "stdout",
          "output_type": "stream",
          "text": [
            "Drive already mounted at /content/drive; to attempt to forcibly remount, call drive.mount(\"/content/drive\", force_remount=True).\n"
          ]
        }
      ],
      "source": [
        "from google.colab import drive\n",
        "drive.mount('/content/drive')"
      ]
    },
    {
      "cell_type": "markdown",
      "metadata": {
        "id": "DzcSOF49FHNh"
      },
      "source": [
        "1. Carregar os datasets disponibilizados pela DNC ou fazer download via\n",
        "Kaggle dos datasets"
      ]
    },
    {
      "cell_type": "code",
      "execution_count": 4,
      "metadata": {
        "id": "hp5gOndIBXn_"
      },
      "outputs": [],
      "source": [
        "# Load the data \n",
        "books_df = pd.read_csv('/content/drive/MyDrive/Colab Notebooks/ARQUIVOS /Books.csv')\n",
        "ratings_df = pd.read_csv('/content/drive/MyDrive/Colab Notebooks/ARQUIVOS /Ratings.csv')\n",
        "users_df = pd.read_csv('/content/drive/MyDrive/Colab Notebooks/ARQUIVOS /Users.csv')"
      ]
    },
    {
      "cell_type": "code",
      "execution_count": 5,
      "metadata": {
        "colab": {
          "base_uri": "https://localhost:8080/",
          "height": 329
        },
        "id": "zLROjMH3B6qv",
        "outputId": "8bf1604a-3e40-4708-ac29-89b859ae2fa5"
      },
      "outputs": [
        {
          "data": {
            "text/html": [
              "\n",
              "  <div id=\"df-cd44009d-c12d-4910-a6c1-c54eefb260d7\">\n",
              "    <div class=\"colab-df-container\">\n",
              "      <div>\n",
              "<style scoped>\n",
              "    .dataframe tbody tr th:only-of-type {\n",
              "        vertical-align: middle;\n",
              "    }\n",
              "\n",
              "    .dataframe tbody tr th {\n",
              "        vertical-align: top;\n",
              "    }\n",
              "\n",
              "    .dataframe thead th {\n",
              "        text-align: right;\n",
              "    }\n",
              "</style>\n",
              "<table border=\"1\" class=\"dataframe\">\n",
              "  <thead>\n",
              "    <tr style=\"text-align: right;\">\n",
              "      <th></th>\n",
              "      <th>ISBN</th>\n",
              "      <th>Book-Title</th>\n",
              "      <th>Book-Author</th>\n",
              "      <th>Year-Of-Publication</th>\n",
              "      <th>Publisher</th>\n",
              "      <th>Image-URL-S</th>\n",
              "      <th>Image-URL-M</th>\n",
              "      <th>Image-URL-L</th>\n",
              "    </tr>\n",
              "  </thead>\n",
              "  <tbody>\n",
              "    <tr>\n",
              "      <th>0</th>\n",
              "      <td>0195153448</td>\n",
              "      <td>Classical Mythology</td>\n",
              "      <td>Mark P. O. Morford</td>\n",
              "      <td>2002</td>\n",
              "      <td>Oxford University Press</td>\n",
              "      <td>http://images.amazon.com/images/P/0195153448.0...</td>\n",
              "      <td>http://images.amazon.com/images/P/0195153448.0...</td>\n",
              "      <td>http://images.amazon.com/images/P/0195153448.0...</td>\n",
              "    </tr>\n",
              "    <tr>\n",
              "      <th>1</th>\n",
              "      <td>0002005018</td>\n",
              "      <td>Clara Callan</td>\n",
              "      <td>Richard Bruce Wright</td>\n",
              "      <td>2001</td>\n",
              "      <td>HarperFlamingo Canada</td>\n",
              "      <td>http://images.amazon.com/images/P/0002005018.0...</td>\n",
              "      <td>http://images.amazon.com/images/P/0002005018.0...</td>\n",
              "      <td>http://images.amazon.com/images/P/0002005018.0...</td>\n",
              "    </tr>\n",
              "    <tr>\n",
              "      <th>2</th>\n",
              "      <td>0060973129</td>\n",
              "      <td>Decision in Normandy</td>\n",
              "      <td>Carlo D'Este</td>\n",
              "      <td>1991</td>\n",
              "      <td>HarperPerennial</td>\n",
              "      <td>http://images.amazon.com/images/P/0060973129.0...</td>\n",
              "      <td>http://images.amazon.com/images/P/0060973129.0...</td>\n",
              "      <td>http://images.amazon.com/images/P/0060973129.0...</td>\n",
              "    </tr>\n",
              "  </tbody>\n",
              "</table>\n",
              "</div>\n",
              "      <button class=\"colab-df-convert\" onclick=\"convertToInteractive('df-cd44009d-c12d-4910-a6c1-c54eefb260d7')\"\n",
              "              title=\"Convert this dataframe to an interactive table.\"\n",
              "              style=\"display:none;\">\n",
              "        \n",
              "  <svg xmlns=\"http://www.w3.org/2000/svg\" height=\"24px\"viewBox=\"0 0 24 24\"\n",
              "       width=\"24px\">\n",
              "    <path d=\"M0 0h24v24H0V0z\" fill=\"none\"/>\n",
              "    <path d=\"M18.56 5.44l.94 2.06.94-2.06 2.06-.94-2.06-.94-.94-2.06-.94 2.06-2.06.94zm-11 1L8.5 8.5l.94-2.06 2.06-.94-2.06-.94L8.5 2.5l-.94 2.06-2.06.94zm10 10l.94 2.06.94-2.06 2.06-.94-2.06-.94-.94-2.06-.94 2.06-2.06.94z\"/><path d=\"M17.41 7.96l-1.37-1.37c-.4-.4-.92-.59-1.43-.59-.52 0-1.04.2-1.43.59L10.3 9.45l-7.72 7.72c-.78.78-.78 2.05 0 2.83L4 21.41c.39.39.9.59 1.41.59.51 0 1.02-.2 1.41-.59l7.78-7.78 2.81-2.81c.8-.78.8-2.07 0-2.86zM5.41 20L4 18.59l7.72-7.72 1.47 1.35L5.41 20z\"/>\n",
              "  </svg>\n",
              "      </button>\n",
              "      \n",
              "  <style>\n",
              "    .colab-df-container {\n",
              "      display:flex;\n",
              "      flex-wrap:wrap;\n",
              "      gap: 12px;\n",
              "    }\n",
              "\n",
              "    .colab-df-convert {\n",
              "      background-color: #E8F0FE;\n",
              "      border: none;\n",
              "      border-radius: 50%;\n",
              "      cursor: pointer;\n",
              "      display: none;\n",
              "      fill: #1967D2;\n",
              "      height: 32px;\n",
              "      padding: 0 0 0 0;\n",
              "      width: 32px;\n",
              "    }\n",
              "\n",
              "    .colab-df-convert:hover {\n",
              "      background-color: #E2EBFA;\n",
              "      box-shadow: 0px 1px 2px rgba(60, 64, 67, 0.3), 0px 1px 3px 1px rgba(60, 64, 67, 0.15);\n",
              "      fill: #174EA6;\n",
              "    }\n",
              "\n",
              "    [theme=dark] .colab-df-convert {\n",
              "      background-color: #3B4455;\n",
              "      fill: #D2E3FC;\n",
              "    }\n",
              "\n",
              "    [theme=dark] .colab-df-convert:hover {\n",
              "      background-color: #434B5C;\n",
              "      box-shadow: 0px 1px 3px 1px rgba(0, 0, 0, 0.15);\n",
              "      filter: drop-shadow(0px 1px 2px rgba(0, 0, 0, 0.3));\n",
              "      fill: #FFFFFF;\n",
              "    }\n",
              "  </style>\n",
              "\n",
              "      <script>\n",
              "        const buttonEl =\n",
              "          document.querySelector('#df-cd44009d-c12d-4910-a6c1-c54eefb260d7 button.colab-df-convert');\n",
              "        buttonEl.style.display =\n",
              "          google.colab.kernel.accessAllowed ? 'block' : 'none';\n",
              "\n",
              "        async function convertToInteractive(key) {\n",
              "          const element = document.querySelector('#df-cd44009d-c12d-4910-a6c1-c54eefb260d7');\n",
              "          const dataTable =\n",
              "            await google.colab.kernel.invokeFunction('convertToInteractive',\n",
              "                                                     [key], {});\n",
              "          if (!dataTable) return;\n",
              "\n",
              "          const docLinkHtml = 'Like what you see? Visit the ' +\n",
              "            '<a target=\"_blank\" href=https://colab.research.google.com/notebooks/data_table.ipynb>data table notebook</a>'\n",
              "            + ' to learn more about interactive tables.';\n",
              "          element.innerHTML = '';\n",
              "          dataTable['output_type'] = 'display_data';\n",
              "          await google.colab.output.renderOutput(dataTable, element);\n",
              "          const docLink = document.createElement('div');\n",
              "          docLink.innerHTML = docLinkHtml;\n",
              "          element.appendChild(docLink);\n",
              "        }\n",
              "      </script>\n",
              "    </div>\n",
              "  </div>\n",
              "  "
            ],
            "text/plain": [
              "         ISBN            Book-Title           Book-Author Year-Of-Publication  \\\n",
              "0  0195153448   Classical Mythology    Mark P. O. Morford                2002   \n",
              "1  0002005018          Clara Callan  Richard Bruce Wright                2001   \n",
              "2  0060973129  Decision in Normandy          Carlo D'Este                1991   \n",
              "\n",
              "                 Publisher                                        Image-URL-S  \\\n",
              "0  Oxford University Press  http://images.amazon.com/images/P/0195153448.0...   \n",
              "1    HarperFlamingo Canada  http://images.amazon.com/images/P/0002005018.0...   \n",
              "2          HarperPerennial  http://images.amazon.com/images/P/0060973129.0...   \n",
              "\n",
              "                                         Image-URL-M  \\\n",
              "0  http://images.amazon.com/images/P/0195153448.0...   \n",
              "1  http://images.amazon.com/images/P/0002005018.0...   \n",
              "2  http://images.amazon.com/images/P/0060973129.0...   \n",
              "\n",
              "                                         Image-URL-L  \n",
              "0  http://images.amazon.com/images/P/0195153448.0...  \n",
              "1  http://images.amazon.com/images/P/0002005018.0...  \n",
              "2  http://images.amazon.com/images/P/0060973129.0...  "
            ]
          },
          "execution_count": 5,
          "metadata": {},
          "output_type": "execute_result"
        }
      ],
      "source": [
        "books_df.head(3)"
      ]
    },
    {
      "cell_type": "code",
      "execution_count": 6,
      "metadata": {
        "colab": {
          "base_uri": "https://localhost:8080/",
          "height": 143
        },
        "id": "DpO6HF6FCjMV",
        "outputId": "f2471d39-10b2-4f7e-e156-abc508391cba"
      },
      "outputs": [
        {
          "data": {
            "text/html": [
              "\n",
              "  <div id=\"df-266fc770-f791-4765-9972-cc1edd80841e\">\n",
              "    <div class=\"colab-df-container\">\n",
              "      <div>\n",
              "<style scoped>\n",
              "    .dataframe tbody tr th:only-of-type {\n",
              "        vertical-align: middle;\n",
              "    }\n",
              "\n",
              "    .dataframe tbody tr th {\n",
              "        vertical-align: top;\n",
              "    }\n",
              "\n",
              "    .dataframe thead th {\n",
              "        text-align: right;\n",
              "    }\n",
              "</style>\n",
              "<table border=\"1\" class=\"dataframe\">\n",
              "  <thead>\n",
              "    <tr style=\"text-align: right;\">\n",
              "      <th></th>\n",
              "      <th>User-ID</th>\n",
              "      <th>ISBN</th>\n",
              "      <th>Book-Rating</th>\n",
              "    </tr>\n",
              "  </thead>\n",
              "  <tbody>\n",
              "    <tr>\n",
              "      <th>0</th>\n",
              "      <td>276725</td>\n",
              "      <td>034545104X</td>\n",
              "      <td>0</td>\n",
              "    </tr>\n",
              "    <tr>\n",
              "      <th>1</th>\n",
              "      <td>276726</td>\n",
              "      <td>0155061224</td>\n",
              "      <td>5</td>\n",
              "    </tr>\n",
              "    <tr>\n",
              "      <th>2</th>\n",
              "      <td>276727</td>\n",
              "      <td>0446520802</td>\n",
              "      <td>0</td>\n",
              "    </tr>\n",
              "  </tbody>\n",
              "</table>\n",
              "</div>\n",
              "      <button class=\"colab-df-convert\" onclick=\"convertToInteractive('df-266fc770-f791-4765-9972-cc1edd80841e')\"\n",
              "              title=\"Convert this dataframe to an interactive table.\"\n",
              "              style=\"display:none;\">\n",
              "        \n",
              "  <svg xmlns=\"http://www.w3.org/2000/svg\" height=\"24px\"viewBox=\"0 0 24 24\"\n",
              "       width=\"24px\">\n",
              "    <path d=\"M0 0h24v24H0V0z\" fill=\"none\"/>\n",
              "    <path d=\"M18.56 5.44l.94 2.06.94-2.06 2.06-.94-2.06-.94-.94-2.06-.94 2.06-2.06.94zm-11 1L8.5 8.5l.94-2.06 2.06-.94-2.06-.94L8.5 2.5l-.94 2.06-2.06.94zm10 10l.94 2.06.94-2.06 2.06-.94-2.06-.94-.94-2.06-.94 2.06-2.06.94z\"/><path d=\"M17.41 7.96l-1.37-1.37c-.4-.4-.92-.59-1.43-.59-.52 0-1.04.2-1.43.59L10.3 9.45l-7.72 7.72c-.78.78-.78 2.05 0 2.83L4 21.41c.39.39.9.59 1.41.59.51 0 1.02-.2 1.41-.59l7.78-7.78 2.81-2.81c.8-.78.8-2.07 0-2.86zM5.41 20L4 18.59l7.72-7.72 1.47 1.35L5.41 20z\"/>\n",
              "  </svg>\n",
              "      </button>\n",
              "      \n",
              "  <style>\n",
              "    .colab-df-container {\n",
              "      display:flex;\n",
              "      flex-wrap:wrap;\n",
              "      gap: 12px;\n",
              "    }\n",
              "\n",
              "    .colab-df-convert {\n",
              "      background-color: #E8F0FE;\n",
              "      border: none;\n",
              "      border-radius: 50%;\n",
              "      cursor: pointer;\n",
              "      display: none;\n",
              "      fill: #1967D2;\n",
              "      height: 32px;\n",
              "      padding: 0 0 0 0;\n",
              "      width: 32px;\n",
              "    }\n",
              "\n",
              "    .colab-df-convert:hover {\n",
              "      background-color: #E2EBFA;\n",
              "      box-shadow: 0px 1px 2px rgba(60, 64, 67, 0.3), 0px 1px 3px 1px rgba(60, 64, 67, 0.15);\n",
              "      fill: #174EA6;\n",
              "    }\n",
              "\n",
              "    [theme=dark] .colab-df-convert {\n",
              "      background-color: #3B4455;\n",
              "      fill: #D2E3FC;\n",
              "    }\n",
              "\n",
              "    [theme=dark] .colab-df-convert:hover {\n",
              "      background-color: #434B5C;\n",
              "      box-shadow: 0px 1px 3px 1px rgba(0, 0, 0, 0.15);\n",
              "      filter: drop-shadow(0px 1px 2px rgba(0, 0, 0, 0.3));\n",
              "      fill: #FFFFFF;\n",
              "    }\n",
              "  </style>\n",
              "\n",
              "      <script>\n",
              "        const buttonEl =\n",
              "          document.querySelector('#df-266fc770-f791-4765-9972-cc1edd80841e button.colab-df-convert');\n",
              "        buttonEl.style.display =\n",
              "          google.colab.kernel.accessAllowed ? 'block' : 'none';\n",
              "\n",
              "        async function convertToInteractive(key) {\n",
              "          const element = document.querySelector('#df-266fc770-f791-4765-9972-cc1edd80841e');\n",
              "          const dataTable =\n",
              "            await google.colab.kernel.invokeFunction('convertToInteractive',\n",
              "                                                     [key], {});\n",
              "          if (!dataTable) return;\n",
              "\n",
              "          const docLinkHtml = 'Like what you see? Visit the ' +\n",
              "            '<a target=\"_blank\" href=https://colab.research.google.com/notebooks/data_table.ipynb>data table notebook</a>'\n",
              "            + ' to learn more about interactive tables.';\n",
              "          element.innerHTML = '';\n",
              "          dataTable['output_type'] = 'display_data';\n",
              "          await google.colab.output.renderOutput(dataTable, element);\n",
              "          const docLink = document.createElement('div');\n",
              "          docLink.innerHTML = docLinkHtml;\n",
              "          element.appendChild(docLink);\n",
              "        }\n",
              "      </script>\n",
              "    </div>\n",
              "  </div>\n",
              "  "
            ],
            "text/plain": [
              "   User-ID        ISBN  Book-Rating\n",
              "0   276725  034545104X            0\n",
              "1   276726  0155061224            5\n",
              "2   276727  0446520802            0"
            ]
          },
          "execution_count": 6,
          "metadata": {},
          "output_type": "execute_result"
        }
      ],
      "source": [
        "ratings_df.head(3)"
      ]
    },
    {
      "cell_type": "code",
      "execution_count": 7,
      "metadata": {
        "colab": {
          "base_uri": "https://localhost:8080/",
          "height": 143
        },
        "id": "atuVPSi5Cl5t",
        "outputId": "72cdef33-534f-48ce-9572-dcdf314774ae"
      },
      "outputs": [
        {
          "data": {
            "text/html": [
              "\n",
              "  <div id=\"df-44d74197-f226-4930-a140-8bf5ef6b7ad3\">\n",
              "    <div class=\"colab-df-container\">\n",
              "      <div>\n",
              "<style scoped>\n",
              "    .dataframe tbody tr th:only-of-type {\n",
              "        vertical-align: middle;\n",
              "    }\n",
              "\n",
              "    .dataframe tbody tr th {\n",
              "        vertical-align: top;\n",
              "    }\n",
              "\n",
              "    .dataframe thead th {\n",
              "        text-align: right;\n",
              "    }\n",
              "</style>\n",
              "<table border=\"1\" class=\"dataframe\">\n",
              "  <thead>\n",
              "    <tr style=\"text-align: right;\">\n",
              "      <th></th>\n",
              "      <th>User-ID</th>\n",
              "      <th>Location</th>\n",
              "      <th>Age</th>\n",
              "    </tr>\n",
              "  </thead>\n",
              "  <tbody>\n",
              "    <tr>\n",
              "      <th>0</th>\n",
              "      <td>1</td>\n",
              "      <td>nyc, new york, usa</td>\n",
              "      <td>NaN</td>\n",
              "    </tr>\n",
              "    <tr>\n",
              "      <th>1</th>\n",
              "      <td>2</td>\n",
              "      <td>stockton, california, usa</td>\n",
              "      <td>18.000</td>\n",
              "    </tr>\n",
              "    <tr>\n",
              "      <th>2</th>\n",
              "      <td>3</td>\n",
              "      <td>moscow, yukon territory, russia</td>\n",
              "      <td>NaN</td>\n",
              "    </tr>\n",
              "  </tbody>\n",
              "</table>\n",
              "</div>\n",
              "      <button class=\"colab-df-convert\" onclick=\"convertToInteractive('df-44d74197-f226-4930-a140-8bf5ef6b7ad3')\"\n",
              "              title=\"Convert this dataframe to an interactive table.\"\n",
              "              style=\"display:none;\">\n",
              "        \n",
              "  <svg xmlns=\"http://www.w3.org/2000/svg\" height=\"24px\"viewBox=\"0 0 24 24\"\n",
              "       width=\"24px\">\n",
              "    <path d=\"M0 0h24v24H0V0z\" fill=\"none\"/>\n",
              "    <path d=\"M18.56 5.44l.94 2.06.94-2.06 2.06-.94-2.06-.94-.94-2.06-.94 2.06-2.06.94zm-11 1L8.5 8.5l.94-2.06 2.06-.94-2.06-.94L8.5 2.5l-.94 2.06-2.06.94zm10 10l.94 2.06.94-2.06 2.06-.94-2.06-.94-.94-2.06-.94 2.06-2.06.94z\"/><path d=\"M17.41 7.96l-1.37-1.37c-.4-.4-.92-.59-1.43-.59-.52 0-1.04.2-1.43.59L10.3 9.45l-7.72 7.72c-.78.78-.78 2.05 0 2.83L4 21.41c.39.39.9.59 1.41.59.51 0 1.02-.2 1.41-.59l7.78-7.78 2.81-2.81c.8-.78.8-2.07 0-2.86zM5.41 20L4 18.59l7.72-7.72 1.47 1.35L5.41 20z\"/>\n",
              "  </svg>\n",
              "      </button>\n",
              "      \n",
              "  <style>\n",
              "    .colab-df-container {\n",
              "      display:flex;\n",
              "      flex-wrap:wrap;\n",
              "      gap: 12px;\n",
              "    }\n",
              "\n",
              "    .colab-df-convert {\n",
              "      background-color: #E8F0FE;\n",
              "      border: none;\n",
              "      border-radius: 50%;\n",
              "      cursor: pointer;\n",
              "      display: none;\n",
              "      fill: #1967D2;\n",
              "      height: 32px;\n",
              "      padding: 0 0 0 0;\n",
              "      width: 32px;\n",
              "    }\n",
              "\n",
              "    .colab-df-convert:hover {\n",
              "      background-color: #E2EBFA;\n",
              "      box-shadow: 0px 1px 2px rgba(60, 64, 67, 0.3), 0px 1px 3px 1px rgba(60, 64, 67, 0.15);\n",
              "      fill: #174EA6;\n",
              "    }\n",
              "\n",
              "    [theme=dark] .colab-df-convert {\n",
              "      background-color: #3B4455;\n",
              "      fill: #D2E3FC;\n",
              "    }\n",
              "\n",
              "    [theme=dark] .colab-df-convert:hover {\n",
              "      background-color: #434B5C;\n",
              "      box-shadow: 0px 1px 3px 1px rgba(0, 0, 0, 0.15);\n",
              "      filter: drop-shadow(0px 1px 2px rgba(0, 0, 0, 0.3));\n",
              "      fill: #FFFFFF;\n",
              "    }\n",
              "  </style>\n",
              "\n",
              "      <script>\n",
              "        const buttonEl =\n",
              "          document.querySelector('#df-44d74197-f226-4930-a140-8bf5ef6b7ad3 button.colab-df-convert');\n",
              "        buttonEl.style.display =\n",
              "          google.colab.kernel.accessAllowed ? 'block' : 'none';\n",
              "\n",
              "        async function convertToInteractive(key) {\n",
              "          const element = document.querySelector('#df-44d74197-f226-4930-a140-8bf5ef6b7ad3');\n",
              "          const dataTable =\n",
              "            await google.colab.kernel.invokeFunction('convertToInteractive',\n",
              "                                                     [key], {});\n",
              "          if (!dataTable) return;\n",
              "\n",
              "          const docLinkHtml = 'Like what you see? Visit the ' +\n",
              "            '<a target=\"_blank\" href=https://colab.research.google.com/notebooks/data_table.ipynb>data table notebook</a>'\n",
              "            + ' to learn more about interactive tables.';\n",
              "          element.innerHTML = '';\n",
              "          dataTable['output_type'] = 'display_data';\n",
              "          await google.colab.output.renderOutput(dataTable, element);\n",
              "          const docLink = document.createElement('div');\n",
              "          docLink.innerHTML = docLinkHtml;\n",
              "          element.appendChild(docLink);\n",
              "        }\n",
              "      </script>\n",
              "    </div>\n",
              "  </div>\n",
              "  "
            ],
            "text/plain": [
              "   User-ID                         Location    Age\n",
              "0        1               nyc, new york, usa    NaN\n",
              "1        2        stockton, california, usa 18.000\n",
              "2        3  moscow, yukon territory, russia    NaN"
            ]
          },
          "execution_count": 7,
          "metadata": {},
          "output_type": "execute_result"
        }
      ],
      "source": [
        "users_df.head(3)"
      ]
    },
    {
      "cell_type": "markdown",
      "metadata": {
        "id": "3BCHGYyuFJy3"
      },
      "source": [
        "2. Implementar o pipeline de transformação de dados para obter a\n",
        "contagem dos clientes que mais avaliam livros.\n"
      ]
    },
    {
      "cell_type": "code",
      "execution_count": 8,
      "metadata": {
        "colab": {
          "base_uri": "https://localhost:8080/"
        },
        "id": "moaDiYjlCrPN",
        "outputId": "128fbbd3-16bf-4463-886d-8485f0ac0d7c"
      },
      "outputs": [
        {
          "data": {
            "text/plain": [
              "278858"
            ]
          },
          "execution_count": 8,
          "metadata": {},
          "output_type": "execute_result"
        }
      ],
      "source": [
        "n_unique_users = users_df[\"User-ID\"].nunique()\n",
        "n_unique_users"
      ]
    },
    {
      "cell_type": "markdown",
      "metadata": {
        "id": "331ooYd4FZ8f"
      },
      "source": [
        "3 - Implementar o pipeline de transformação de dados para obter a contagem dos livros mais avaliados."
      ]
    },
    {
      "cell_type": "code",
      "execution_count": 9,
      "metadata": {
        "colab": {
          "base_uri": "https://localhost:8080/"
        },
        "id": "qz-0E68GD8_S",
        "outputId": "50b9508d-3fc7-493f-ad47-95e6ccf2a3be"
      },
      "outputs": [
        {
          "data": {
            "text/plain": [
              "271360"
            ]
          },
          "execution_count": 9,
          "metadata": {},
          "output_type": "execute_result"
        }
      ],
      "source": [
        "n_unique_itens = books_df['ISBN'].nunique()\n",
        "n_unique_itens"
      ]
    },
    {
      "cell_type": "code",
      "execution_count": 10,
      "metadata": {
        "id": "yRI33BXVFpQ2"
      },
      "outputs": [],
      "source": [
        "\n",
        "def start_pipeline(dataf):\n",
        "    return dataf.copy()\n",
        "\n",
        "def get_user_counts(dataf):\n",
        "  return dataf.groupby(by='User-ID', as_index=False) \\\n",
        "    .agg({'ISBN': pd.Series.nunique}) \\\n",
        "    .rename(columns={'ISBN': 'ISBN_count'}) \\\n",
        "    .set_index('User-ID') \\\n",
        "    .sort_values('ISBN_count', ascending = False)\n",
        "\n",
        "def get_book_counts(dataf):\n",
        "  return dataf.groupby(by='ISBN', as_index=False) \\\n",
        "    .agg({'User-ID': pd.Series.nunique}) \\\n",
        "    .rename(columns={'User-ID': 'User-ID_count'}) \\\n",
        "    .set_index('ISBN') \\\n",
        "    .sort_values('User-ID_count', ascending = False)\n",
        "\n",
        "def get_n_top_values(dataf, n):\n",
        "  return dataf.head(sample_size) \\\n",
        "    .index \\\n",
        "    .tolist()\n",
        "\n",
        "sample_size = 1000\n",
        "top_user_ids = ratings_df \\\n",
        "  .pipe(start_pipeline) \\\n",
        "  .pipe(get_user_counts) \\\n",
        "  .pipe(get_n_top_values, sample_size)\n",
        "\n",
        "sample_size = 999\n",
        "top_book_ids = ratings_df \\\n",
        "  .pipe(start_pipeline) \\\n",
        "  .pipe(get_book_counts) \\\n",
        "  .pipe(get_n_top_values, sample_size)"
      ]
    },
    {
      "cell_type": "code",
      "execution_count": 11,
      "metadata": {
        "colab": {
          "base_uri": "https://localhost:8080/"
        },
        "id": "9PVNkBjDF18E",
        "outputId": "b643eaf3-472c-40a5-8533-638f34ebd2b4"
      },
      "outputs": [
        {
          "data": {
            "text/plain": [
              "(1000, 999)"
            ]
          },
          "execution_count": 11,
          "metadata": {},
          "output_type": "execute_result"
        }
      ],
      "source": [
        "len(top_user_ids), len(top_book_ids)"
      ]
    },
    {
      "cell_type": "code",
      "execution_count": 12,
      "metadata": {
        "id": "_FM6bdDOGHx1"
      },
      "outputs": [],
      "source": [
        "def transform_sample(dataf):\n",
        "  return pd.DataFrame({\n",
        "      \"user\": dataf[\"User-ID\"],\n",
        "      \"book\": dataf[\"ISBN\"],\n",
        "      \"action\": dataf[\"Book-Rating\"]\n",
        "  })\n",
        "\n",
        "matriz_de_relacionamento_user_sampled = ratings_df[ratings_df[\"User-ID\"].isin(top_user_ids)] \\\n",
        "  .pipe(transform_sample) \\\n",
        "  .pivot_table(index=\"user\", columns=\"book\", values=\"action\").fillna(0)"
      ]
    },
    {
      "cell_type": "code",
      "execution_count": 13,
      "metadata": {
        "colab": {
          "base_uri": "https://localhost:8080/"
        },
        "id": "-kWzbfniGOXU",
        "outputId": "ac585e4e-4edd-4254-e1b9-07e1499d1b1e"
      },
      "outputs": [
        {
          "data": {
            "text/plain": [
              "(1000, 212171)"
            ]
          },
          "execution_count": 13,
          "metadata": {},
          "output_type": "execute_result"
        }
      ],
      "source": [
        "matriz_de_relacionamento_user_sampled.shape"
      ]
    },
    {
      "cell_type": "code",
      "execution_count": 14,
      "metadata": {
        "id": "Wq8VqM6vGbW0"
      },
      "outputs": [],
      "source": [
        "matriz_de_relacionamento_book_sampled = ratings_df[ratings_df[\"ISBN\"].isin(top_book_ids)] \\\n",
        "  .pipe(transform_sample) \\\n",
        "  .pivot_table(index=\"user\", columns=\"book\", values=\"action\").fillna(0)"
      ]
    },
    {
      "cell_type": "code",
      "execution_count": 15,
      "metadata": {
        "colab": {
          "base_uri": "https://localhost:8080/"
        },
        "id": "YfrDCPegIBY9",
        "outputId": "50e9c309-6d4f-4b68-bbea-a25865388543"
      },
      "outputs": [
        {
          "name": "stdout",
          "output_type": "stream",
          "text": [
            "[[1.         0.0528255  0.         ... 0.         0.         0.        ]\n",
            " [0.0528255  1.         0.04675324 ... 0.         0.         0.        ]\n",
            " [0.         0.04675324 1.         ... 0.02334216 0.         0.        ]\n",
            " ...\n",
            " [0.         0.         0.02334216 ... 1.         0.         0.        ]\n",
            " [0.         0.         0.         ... 0.         1.         0.        ]\n",
            " [0.         0.         0.         ... 0.         0.         1.        ]]\n"
          ]
        }
      ],
      "source": [
        "cos_user = cosine_similarity(matriz_de_relacionamento_user_sampled)\n",
        "\n",
        "print(cos_user)"
      ]
    },
    {
      "cell_type": "code",
      "execution_count": 16,
      "metadata": {
        "colab": {
          "base_uri": "https://localhost:8080/"
        },
        "id": "r5_d_zFmG1ww",
        "outputId": "bdedfe4c-eb74-4fb4-c891-0445f40f9752"
      },
      "outputs": [
        {
          "name": "stdout",
          "output_type": "stream",
          "text": [
            "[[1.         0.05983705 0.02857749 ... 0.02202635 0.01551346 0.        ]\n",
            " [0.05983705 1.         0.01555774 ... 0.02620312 0.         0.        ]\n",
            " [0.02857749 0.01555774 1.         ... 0.04822782 0.         0.        ]\n",
            " ...\n",
            " [0.02202635 0.02620312 0.04822782 ... 1.         0.         0.        ]\n",
            " [0.01551346 0.         0.         ... 0.         1.         0.03301185]\n",
            " [0.         0.         0.         ... 0.         0.03301185 1.        ]]\n"
          ]
        },
        {
          "data": {
            "text/plain": [
              "(999, 999)"
            ]
          },
          "execution_count": 16,
          "metadata": {},
          "output_type": "execute_result"
        }
      ],
      "source": [
        "cos_item = cosine_similarity(matriz_de_relacionamento_book_sampled.T)\n",
        "\n",
        "print(cos_item)\n",
        "cos_item.shape"
      ]
    },
    {
      "cell_type": "code",
      "execution_count": 17,
      "metadata": {
        "colab": {
          "base_uri": "https://localhost:8080/"
        },
        "id": "jrIREwKTHsCC",
        "outputId": "01a13dcf-9967-4e8a-e87a-1fd23a50281e"
      },
      "outputs": [
        {
          "name": "stdout",
          "output_type": "stream",
          "text": [
            "[[1.         0.0528255  0.         ... 0.         0.         0.        ]\n",
            " [0.0528255  1.         0.04675324 ... 0.         0.         0.        ]\n",
            " [0.         0.04675324 1.         ... 0.02334216 0.         0.        ]\n",
            " ...\n",
            " [0.         0.         0.02334216 ... 1.         0.         0.        ]\n",
            " [0.         0.         0.         ... 0.         1.         0.        ]\n",
            " [0.         0.         0.         ... 0.         0.         1.        ]]\n"
          ]
        }
      ],
      "source": [
        "print(cos_user)"
      ]
    },
    {
      "cell_type": "code",
      "execution_count": 18,
      "metadata": {
        "colab": {
          "base_uri": "https://localhost:8080/"
        },
        "id": "EZngbwwBIb4p",
        "outputId": "3cdc3d0d-593f-4d0e-e459-e2042d7b5c8b"
      },
      "outputs": [
        {
          "data": {
            "text/plain": [
              "Int64Index([   254,   2033,   2276,   2766,   2977,   3363,   3757,   4017,\n",
              "              4385,   6242,\n",
              "            ...\n",
              "            274301, 274308, 274808, 275970, 276680, 277427, 277478, 277639,\n",
              "            278188, 278418],\n",
              "           dtype='int64', name='user', length=1000)"
            ]
          },
          "execution_count": 18,
          "metadata": {},
          "output_type": "execute_result"
        }
      ],
      "source": [
        "matriz_de_relacionamento_user_sampled.index"
      ]
    },
    {
      "cell_type": "code",
      "execution_count": 26,
      "metadata": {
        "colab": {
          "base_uri": "https://localhost:8080/"
        },
        "id": "FjyVgVl2IrvQ",
        "outputId": "88da4e2f-df05-41ec-bbc8-bb8d6159fd52"
      },
      "outputs": [
        {
          "name": "stdout",
          "output_type": "stream",
          "text": [
            "Cliente de interesse: 27647\n",
            "Cliente id: 27647,tem índice 82\n",
            "cliente 27647 tem similaridade 1.00 com cliente 27647\n",
            "cliente 251844 tem similaridade 0.08 com cliente 27647\n",
            "cliente 26883 tem similaridade 0.06 com cliente 27647\n",
            "cliente 13082 tem similaridade 0.06 com cliente 27647\n",
            "cliente 80538 tem similaridade 0.06 com cliente 27647\n",
            "cliente 76223 tem similaridade 0.06 com cliente 27647\n",
            "cliente 264317 tem similaridade 0.05 com cliente 27647\n",
            "cliente 69971 tem similaridade 0.05 com cliente 27647\n",
            "cliente 221445 tem similaridade 0.04 com cliente 27647\n",
            "cliente 106007 tem similaridade 0.04 com cliente 27647\n"
          ]
        }
      ],
      "source": [
        "cliente_de_interesse = matriz_de_relacionamento_user_sampled.index[random.randint(0, matriz_de_relacionamento_user_sampled.shape[0])]\n",
        "\n",
        "print(f\"Cliente de interesse: {cliente_de_interesse}\")\n",
        "\n",
        "cliente_idx = matriz_de_relacionamento_user_sampled.index.tolist().index(cliente_de_interesse)\n",
        "print(f\"Cliente id: {cliente_de_interesse},tem índice {cliente_idx}\")\n",
        "\n",
        "closest_10_users = np.argsort(-cos_user[cliente_idx])[:10]\n",
        "\n",
        "for i in zip(matriz_de_relacionamento_user_sampled.index[closest_10_users], cos_user[cliente_idx][closest_10_users]):\n",
        "    print(f\"cliente {i[0]} tem similaridade {i[1]:.2f} com cliente {cliente_de_interesse}\")"
      ]
    },
    {
      "cell_type": "code",
      "execution_count": 20,
      "metadata": {
        "colab": {
          "base_uri": "https://localhost:8080/"
        },
        "id": "-pVRKyVPJaEP",
        "outputId": "0db729e6-f6e3-4266-c7ad-ebd905f80e8e"
      },
      "outputs": [
        {
          "data": {
            "text/plain": [
              "Index(['000649840X', '002542730X', '0060008032', '0060096195', '006016848X',\n",
              "       '0060173289', '0060175400', '0060188731', '006019491X', '0060199652',\n",
              "       ...\n",
              "       '1573225517', '1573225789', '1573227331', '1573229326', '1573229571',\n",
              "       '1573229725', '1576737330', '1592400876', '1878424319', '8873122933'],\n",
              "      dtype='object', name='book', length=999)"
            ]
          },
          "execution_count": 20,
          "metadata": {},
          "output_type": "execute_result"
        }
      ],
      "source": [
        "matriz_de_relacionamento_book_sampled.T.index"
      ]
    },
    {
      "cell_type": "code",
      "execution_count": 21,
      "metadata": {
        "colab": {
          "base_uri": "https://localhost:8080/"
        },
        "id": "ImKyR2B2JoFV",
        "outputId": "eb3e3d57-1e9c-4dbb-f743-ea6992643c3c"
      },
      "outputs": [
        {
          "name": "stdout",
          "output_type": "stream",
          "text": [
            "[[1.         0.05983705 0.02857749 ... 0.02202635 0.01551346 0.        ]\n",
            " [0.05983705 1.         0.01555774 ... 0.02620312 0.         0.        ]\n",
            " [0.02857749 0.01555774 1.         ... 0.04822782 0.         0.        ]\n",
            " ...\n",
            " [0.02202635 0.02620312 0.04822782 ... 1.         0.         0.        ]\n",
            " [0.01551346 0.         0.         ... 0.         1.         0.03301185]\n",
            " [0.         0.         0.         ... 0.         0.03301185 1.        ]]\n"
          ]
        }
      ],
      "source": [
        "print(cos_item)"
      ]
    },
    {
      "cell_type": "code",
      "execution_count": 22,
      "metadata": {
        "colab": {
          "base_uri": "https://localhost:8080/"
        },
        "id": "_CMRZAoQJtS9",
        "outputId": "55122e35-976b-454a-d165-e275710c2553"
      },
      "outputs": [
        {
          "name": "stdout",
          "output_type": "stream",
          "text": [
            "Item de interesse: 0425144429\n",
            "Item id: 0425144429, tem índice 392\n",
            "0425144429 [392 196 197 200 403 389 637 396 623 919]\n",
            "Item 0425144429 tem similaridade 1.00 com item 0425144429\n",
            "Item 0345384369 tem similaridade 0.11 com item 0425144429\n",
            "Item 0345384377 tem similaridade 0.11 com item 0425144429\n",
            "Item 0345386108 tem similaridade 0.11 com item 0425144429\n",
            "Item 0425153975 tem similaridade 0.11 com item 0425144429\n",
            "Item 0425140032 tem similaridade 0.11 com item 0425144429\n",
            "Item 0451181379 tem similaridade 0.09 com item 0425144429\n",
            "Item 0425147517 tem similaridade 0.08 com item 0425144429\n",
            "Item 0451156609 tem similaridade 0.08 com item 0425144429\n",
            "Item 0743467523 tem similaridade 0.08 com item 0425144429\n"
          ]
        }
      ],
      "source": [
        "def mostra_n_mais_proximos(id_de_interesse, lista_instanciast, matriz_similaridade, n):\n",
        "  print(f\"Item de interesse: {instancia_de_interesse}\")\n",
        "\n",
        "  assert id_de_interesse in lista_instanciast\n",
        "  cliente_idx = lista_instanciast.tolist().index(instancia_de_interesse)\n",
        "  print(f\"Item id: {instancia_de_interesse}, tem índice {cliente_idx}\")\n",
        "\n",
        "  closest_10_users = np.argsort(-matriz_similaridade[cliente_idx])[:n]\n",
        "  print(instancia_de_interesse, closest_10_users)\n",
        "\n",
        "  for i in zip(lista_instanciast[closest_10_users], matriz_similaridade[cliente_idx][closest_10_users]):\n",
        "      print(f\"Item {i[0]} tem similaridade {i[1]:.2f} com item {instancia_de_interesse}\")\n",
        "\n",
        "\n",
        "lista_instancias = matriz_de_relacionamento_book_sampled.T.index\n",
        "instancia_de_interesse = lista_instancias[random.randint(0, len(lista_instancias))]\n",
        "\n",
        "mostra_n_mais_proximos(instancia_de_interesse, lista_instancias, cos_item, 10)"
      ]
    },
    {
      "cell_type": "code",
      "execution_count": 23,
      "metadata": {
        "colab": {
          "base_uri": "https://localhost:8080/"
        },
        "id": "FCFcudUbMioK",
        "outputId": "7b209e22-cf00-414e-f44f-7334d00edfe7"
      },
      "outputs": [
        {
          "name": "stdout",
          "output_type": "stream",
          "text": [
            "[[ 1.00000000e+00  5.24499768e-02 -5.03368731e-04 ... -1.91344402e-04\n",
            "  -2.48344082e-04 -3.66792106e-04]\n",
            " [ 5.24499768e-02  1.00000000e+00  4.60295960e-02 ... -2.88958574e-04\n",
            "  -3.75036588e-04 -5.53910764e-04]\n",
            " [-5.03368731e-04  4.60295960e-02  1.00000000e+00 ...  2.29898773e-02\n",
            "  -4.73873967e-04 -6.99888756e-04]\n",
            " ...\n",
            " [-1.91344402e-04 -2.88958574e-04  2.29898773e-02 ...  1.00000000e+00\n",
            "  -1.80132625e-04 -2.66047109e-04]\n",
            " [-2.48344082e-04 -3.75036588e-04 -4.73873967e-04 ... -1.80132625e-04\n",
            "   1.00000000e+00 -3.45300015e-04]\n",
            " [-3.66792106e-04 -5.53910764e-04 -6.99888756e-04 ... -2.66047109e-04\n",
            "  -3.45300015e-04  1.00000000e+00]]\n"
          ]
        },
        {
          "data": {
            "text/plain": [
              "(1000, 1000)"
            ]
          },
          "execution_count": 23,
          "metadata": {},
          "output_type": "execute_result"
        }
      ],
      "source": [
        "cor_users = np.corrcoef(matriz_de_relacionamento_user_sampled)\n",
        "print(cor_users)\n",
        "cor_users.shape"
      ]
    },
    {
      "cell_type": "code",
      "execution_count": 25,
      "metadata": {
        "colab": {
          "base_uri": "https://localhost:8080/"
        },
        "id": "iNfQAV3yNKUJ",
        "outputId": "6cc94cdc-0a32-4828-f98e-b32bdffbdc3a"
      },
      "outputs": [
        {
          "name": "stdout",
          "output_type": "stream",
          "text": [
            "[[ 1.00000000e+00  5.84285607e-02  2.75927524e-02 ...  2.07534252e-02\n",
            "   1.42178559e-02 -8.30758829e-04]\n",
            " [ 5.84285607e-02  1.00000000e+00  1.41896293e-02 ...  2.44633695e-02\n",
            "  -1.80673898e-03 -1.14023195e-03]\n",
            " [ 2.75927524e-02  1.41896293e-02  1.00000000e+00 ...  4.70823544e-02\n",
            "  -1.21870506e-03 -7.69124075e-04]\n",
            " ...\n",
            " [ 2.07534252e-02  2.44633695e-02  4.70823544e-02 ...  1.00000000e+00\n",
            "  -1.56520034e-03 -9.87797045e-04]\n",
            " [ 1.42178559e-02 -1.80673898e-03 -1.21870506e-03 ... -1.56520034e-03\n",
            "   1.00000000e+00  3.20496992e-02]\n",
            " [-8.30758829e-04 -1.14023195e-03 -7.69124075e-04 ... -9.87797045e-04\n",
            "   3.20496992e-02  1.00000000e+00]]\n"
          ]
        },
        {
          "data": {
            "text/plain": [
              "(999, 999)"
            ]
          },
          "execution_count": 25,
          "metadata": {},
          "output_type": "execute_result"
        }
      ],
      "source": [
        "cor_books = np.corrcoef(matriz_de_relacionamento_book_sampled.T)\n",
        "print(cor_books)\n",
        "cor_books.shape"
      ]
    }
  ],
  "metadata": {
    "colab": {
      "name": "EXERCICIO.ipynb",
      "provenance": []
    },
    "kernelspec": {
      "display_name": "Python 3",
      "name": "python3"
    },
    "language_info": {
      "name": "python",
      "version": "3.8.8"
    }
  },
  "nbformat": 4,
  "nbformat_minor": 0
}
